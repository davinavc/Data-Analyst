{
  "nbformat": 4,
  "nbformat_minor": 0,
  "metadata": {
    "colab": {
      "provenance": [],
      "authorship_tag": "ABX9TyP6fPTBLl3/56fLCCzp4iBj",
      "include_colab_link": true
    },
    "kernelspec": {
      "name": "python3",
      "display_name": "Python 3"
    },
    "language_info": {
      "name": "python"
    }
  },
  "cells": [
    {
      "cell_type": "markdown",
      "metadata": {
        "id": "view-in-github",
        "colab_type": "text"
      },
      "source": [
        "<a href=\"https://colab.research.google.com/github/davinavc/Data-Analyst/blob/main/E-Commerce%20using%20Machine%20Learning%20/E_Commerce_using_Machine_Learning.ipynb\" target=\"_parent\"><img src=\"https://colab.research.google.com/assets/colab-badge.svg\" alt=\"Open In Colab\"/></a>"
      ]
    },
    {
      "cell_type": "code",
      "execution_count": 26,
      "metadata": {
        "id": "c3EAFmVFzKo_"
      },
      "outputs": [],
      "source": [
        "#import library\n",
        "import pandas as pd\n",
        "import matplotlib.pyplot as plt\n",
        "import seaborn as sns\n",
        "from sklearn.model_selection import train_test_split\n",
        "from sklearn.linear_model import LogisticRegression\n",
        "from sklearn.metrics import confusion_matrix, classification_report"
      ]
    },
    {
      "cell_type": "code",
      "source": [
        "# Load data 'ecommerce_banner_promo.csv'\n",
        "data = pd.read_csv('https://storage.googleapis.com/dqlab-dataset/pythonTutorial/ecommerce_banner_promo.csv')"
      ],
      "metadata": {
        "id": "B0JE7r4-zaQC"
      },
      "execution_count": 12,
      "outputs": []
    },
    {
      "cell_type": "code",
      "source": [
        "# Seting: matplotlib and seaborn\n",
        "sns.set_style('whitegrid')\n",
        "plt.style.use('fivethirtyeight')"
      ],
      "metadata": {
        "id": "gAxxbCXW3cvm"
      },
      "execution_count": null,
      "outputs": []
    },
    {
      "cell_type": "code",
      "source": [
        "#1. Data explore using head(), info(), describe(), shape\n",
        "print(\"\\n[1] Data eksplorasi dengan head(), info(), describe(), shape\")\n",
        "print(\"Top 5 data:\")\n",
        "print(data.head())\n",
        "print(\"Dataset information:\")\n",
        "print(data.info())\n",
        "print(\"Dataset statistic descriptive:\")\n",
        "print(data.describe())\n",
        "print(\"Dataset size:\")\n",
        "print(data.shape)"
      ],
      "metadata": {
        "id": "Qxwd76aJzcfR"
      },
      "execution_count": null,
      "outputs": []
    },
    {
      "cell_type": "code",
      "source": [
        "#2. Exploratory data analysis by checking the correlation of each feature using the corr() function\n",
        "print(\"\\n[2] Exploratory data analysis by checking the correlation of each feature using the corr() function\")\n",
        "print(data.corr())"
      ],
      "metadata": {
        "id": "MHJwCLfyuLhK"
      },
      "execution_count": null,
      "outputs": []
    },
    {
      "cell_type": "code",
      "source": [
        "#3. Exploratory data analysis by checking the distribution of labels using the groupby() and size() functions\n",
        "print(\"\\n[3] Exploratory data analysis by checking the distribution of labels using the groupby() and size() functions\")\n",
        "print(data.groupby(['Clicked on Ad']).size())"
      ],
      "metadata": {
        "id": "aSew5pcSuM9K"
      },
      "execution_count": null,
      "outputs": []
    },
    {
      "cell_type": "code",
      "source": [
        "#4. Exploratory data analysis with visualization\n",
        "#4a. Visualizing the number of users divided into age ranges using a histogram (hist()) plot\n",
        "plt.figure(figsize=(10, 5))\n",
        "plt.hist(data['Age'], bins = data.Age.nunique())\n",
        "plt.xlabel('Age')\n",
        "plt.tight_layout()\n",
        "plt.show()"
      ],
      "metadata": {
        "id": "LRS6iK3BwL5F"
      },
      "execution_count": null,
      "outputs": []
    },
    {
      "cell_type": "code",
      "source": [
        "#4b. Using pairplot() from the seaborn (sns) module to depict relationships between each feature\n",
        "plt.figure()\n",
        "sns.pairplot(data)\n",
        "plt.show()"
      ],
      "metadata": {
        "id": "5aB0dpupwL6P"
      },
      "execution_count": null,
      "outputs": []
    },
    {
      "cell_type": "markdown",
      "source": [
        " **Data Preparation**"
      ],
      "metadata": {
        "id": "hjquY5RyyS8b"
      }
    },
    {
      "cell_type": "code",
      "source": [
        "#5. Check missing value\n",
        "print(\"\\n[5] Check missing value\")\n",
        "print(data.isnull().sum().sum())"
      ],
      "metadata": {
        "id": "C7fQ8COiycvU"
      },
      "execution_count": null,
      "outputs": []
    },
    {
      "cell_type": "markdown",
      "source": [
        "**Modelling**"
      ],
      "metadata": {
        "id": "3yWqrX5D1HLv"
      }
    },
    {
      "cell_type": "code",
      "source": [
        "#6. Modeling using Logistic Regression, using an 80:20 ratio for training vs. testing\n",
        "print(\"\\n[6] Modeling using Logistic Regression, using an 80:20 ratio for training vs. testing\")\n",
        "#6a. Drop non-numerical (object type) features from X, as Logistic Regression requires numerical input. Also, drop the target/label and assign the target variable to y\n",
        "X = data.drop(['Ad Topic Line','City','Country','Timestamp','Clicked on Ad'], axis = 1)\n",
        "y = data['Clicked on Ad']"
      ],
      "metadata": {
        "id": "VypHS_LM1Ixv"
      },
      "execution_count": null,
      "outputs": []
    },
    {
      "cell_type": "code",
      "source": [
        "#6b. splitting the data\n",
        "X_train, X_test, y_train, y_test = train_test_split(X, y, test_size = 0.2, random_state = 42)"
      ],
      "metadata": {
        "id": "1h6OUf5Z1NXg"
      },
      "execution_count": 27,
      "outputs": []
    },
    {
      "cell_type": "code",
      "source": [
        "#6c. Modelling\n",
        "# Call the classifier\n",
        "logreg = LogisticRegression()\n",
        "# Fit the classifier to the training data\n",
        "logreg = logreg.fit(X_train,y_train)\n",
        "# Prediksi model\n",
        "y_pred = logreg.predict(X_test)"
      ],
      "metadata": {
        "id": "d2Tmc9mU1REC"
      },
      "execution_count": 28,
      "outputs": []
    },
    {
      "cell_type": "code",
      "source": [
        "#6d. Model Performance Evaluation\n",
        "print(\"Model Performance Evaluation:\")\n",
        "print(\"Training Accuracy :\", logreg.score(X_train, y_train))\n",
        "print(\"Testing Accuracy :\", logreg.score(X_test, y_test))"
      ],
      "metadata": {
        "id": "QnCmrU4j1VG4"
      },
      "execution_count": null,
      "outputs": []
    },
    {
      "cell_type": "markdown",
      "source": [
        "**Evaluation**"
      ],
      "metadata": {
        "id": "5RLVq0z119nG"
      }
    },
    {
      "cell_type": "code",
      "source": [
        "#7. Print Confusion matrix dan classification report\n",
        "print(\"\\n[7] Print Confusion matrix dan classification report\")\n",
        "\n",
        "#apply confusion_matrix function to y_test and y_pred\n",
        "print(\"Confusion matrix:\")\n",
        "cm = confusion_matrix(y_test, y_pred)\n",
        "print(cm)\n",
        "\n",
        "#apply classification_report function to y_test and y_pred\n",
        "print(\"Classification report:\")\n",
        "cr = classification_report(y_test, y_pred)\n",
        "print(cr)"
      ],
      "metadata": {
        "colab": {
          "base_uri": "https://localhost:8080/"
        },
        "id": "W_g1OcNG1_6_",
        "outputId": "05167b44-0967-4f63-d4f9-ed5c8870b037"
      },
      "execution_count": 31,
      "outputs": [
        {
          "output_type": "stream",
          "name": "stdout",
          "text": [
            "\n",
            "[7] Print Confusion matrix dan classification report\n",
            "Confusion matrix:\n",
            "[[85  4]\n",
            " [16 95]]\n",
            "Classification report:\n",
            "              precision    recall  f1-score   support\n",
            "\n",
            "           0       0.84      0.96      0.89        89\n",
            "           1       0.96      0.86      0.90       111\n",
            "\n",
            "    accuracy                           0.90       200\n",
            "   macro avg       0.90      0.91      0.90       200\n",
            "weighted avg       0.91      0.90      0.90       200\n",
            "\n"
          ]
        }
      ]
    },
    {
      "cell_type": "markdown",
      "source": [
        "The model performs very well in predicting whether users will click on the website or not, as indicated by an accuracy score of 0.90. The dataset has a balanced number of labels (balanced class), allowing performance evaluation to use the accuracy metric."
      ],
      "metadata": {
        "id": "NwhFqX4W2qqW"
      }
    }
  ]
}