{
  "nbformat": 4,
  "nbformat_minor": 0,
  "metadata": {
    "colab": {
      "provenance": [],
      "authorship_tag": "ABX9TyMCUwO8Wy6bYlnfdio3GCzC",
      "include_colab_link": true
    },
    "kernelspec": {
      "name": "python3",
      "display_name": "Python 3"
    },
    "language_info": {
      "name": "python"
    }
  },
  "cells": [
    {
      "cell_type": "markdown",
      "metadata": {
        "id": "view-in-github",
        "colab_type": "text"
      },
      "source": [
        "<a href=\"https://colab.research.google.com/github/davinavc/Data-Analyst/blob/main/Police_Dataset.ipynb\" target=\"_parent\"><img src=\"https://colab.research.google.com/assets/colab-badge.svg\" alt=\"Open In Colab\"/></a>"
      ]
    },
    {
      "cell_type": "markdown",
      "source": [
        "Police Dataset"
      ],
      "metadata": {
        "id": "Th41ZnnUZpUX"
      }
    },
    {
      "cell_type": "markdown",
      "source": [
        "Import library"
      ],
      "metadata": {
        "id": "Qq0PVxqzZzOZ"
      }
    },
    {
      "cell_type": "code",
      "execution_count": 1,
      "metadata": {
        "id": "V3tZ-oRfZhbr"
      },
      "outputs": [],
      "source": [
        "import pandas as pd"
      ]
    },
    {
      "cell_type": "markdown",
      "source": [
        "Read CSV file"
      ],
      "metadata": {
        "id": "_F3Xo2E1Z04e"
      }
    },
    {
      "cell_type": "code",
      "source": [
        "data = pd.read_csv('/content/sample_data/3. Police Data.csv')"
      ],
      "metadata": {
        "id": "DVqgrc0fZyk9"
      },
      "execution_count": 8,
      "outputs": []
    }
  ]
}