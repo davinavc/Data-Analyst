{
  "nbformat": 4,
  "nbformat_minor": 0,
  "metadata": {
    "colab": {
      "provenance": [],
      "authorship_tag": "ABX9TyOUwIDpk3+6dPKwjnEO00Ou",
      "include_colab_link": true
    },
    "kernelspec": {
      "name": "python3",
      "display_name": "Python 3"
    },
    "language_info": {
      "name": "python"
    }
  },
  "cells": [
    {
      "cell_type": "markdown",
      "metadata": {
        "id": "view-in-github",
        "colab_type": "text"
      },
      "source": [
        "<a href=\"https://colab.research.google.com/github/davinavc/Data-Analyst/blob/main/E_Commerce_using_Machine_Learning.ipynb\" target=\"_parent\"><img src=\"https://colab.research.google.com/assets/colab-badge.svg\" alt=\"Open In Colab\"/></a>"
      ]
    },
    {
      "cell_type": "code",
      "execution_count": 1,
      "metadata": {
        "id": "c3EAFmVFzKo_"
      },
      "outputs": [],
      "source": [
        "#import library\n",
        "import pandas as pd"
      ]
    },
    {
      "cell_type": "code",
      "source": [
        "# Baca data 'ecommerce_banner_promo.csv'\n",
        "data = pd.read_csv('https://storage.googleapis.com/dqlab-dataset/pythonTutorial/ecommerce_banner_promo.csv')\n"
      ],
      "metadata": {
        "id": "B0JE7r4-zaQC"
      },
      "execution_count": 2,
      "outputs": []
    },
    {
      "cell_type": "code",
      "source": [
        "#1. Data eksplorasi dengan head(), info(), describe(), shape\n",
        "print(\"\\n[1] Data eksplorasi dengan head(), info(), describe(), shape\")\n",
        "print(\"Lima data teratas:\")\n",
        "print(data.head())\n",
        "print(\"Informasi dataset:\")\n",
        "print(data.info())\n",
        "print(\"Statistik deskriptif dataset:\")\n",
        "print(data.describe())\n",
        "print(\"Ukuran dataset:\")\n",
        "print(data.shape)"
      ],
      "metadata": {
        "id": "Qxwd76aJzcfR"
      },
      "execution_count": null,
      "outputs": []
    }
  ]
}