{
  "nbformat": 4,
  "nbformat_minor": 0,
  "metadata": {
    "colab": {
      "provenance": [],
      "authorship_tag": "ABX9TyN85sIoJsKDxdMkwDHg7k/O",
      "include_colab_link": true
    },
    "kernelspec": {
      "name": "python3",
      "display_name": "Python 3"
    },
    "language_info": {
      "name": "python"
    }
  },
  "cells": [
    {
      "cell_type": "markdown",
      "metadata": {
        "id": "view-in-github",
        "colab_type": "text"
      },
      "source": [
        "<a href=\"https://colab.research.google.com/github/davinavc/Data-Analyst/blob/main/Datacamp.ipynb\" target=\"_parent\"><img src=\"https://colab.research.google.com/assets/colab-badge.svg\" alt=\"Open In Colab\"/></a>"
      ]
    },
    {
      "cell_type": "code",
      "execution_count": 3,
      "metadata": {
        "id": "IVGiV0vYPE3d"
      },
      "outputs": [],
      "source": [
        "# Import library\n",
        "import pandas as pd"
      ]
    },
    {
      "cell_type": "code",
      "source": [
        "# Load the dataset\n",
        "df = pd.read_csv('/content/pet_supplies_2212.csv')"
      ],
      "metadata": {
        "id": "A0id9XyuPPX4"
      },
      "execution_count": 4,
      "outputs": []
    },
    {
      "cell_type": "code",
      "source": [
        "# Dataset Size\n",
        "print(df.shape)"
      ],
      "metadata": {
        "id": "HnFEWn0HY_Ja",
        "colab": {
          "base_uri": "https://localhost:8080/"
        },
        "outputId": "d2e899e3-e717-4a4a-e9a6-8f764ec496d3"
      },
      "execution_count": 5,
      "outputs": [
        {
          "output_type": "stream",
          "name": "stdout",
          "text": [
            "(1500, 8)\n"
          ]
        }
      ]
    },
    {
      "cell_type": "code",
      "source": [
        "# Columns names in dataset\n",
        "print(df.columns)"
      ],
      "metadata": {
        "colab": {
          "base_uri": "https://localhost:8080/"
        },
        "id": "yGfy78S4PWKf",
        "outputId": "2a057ae1-f7f8-4c3b-c0f9-e257ef21b911"
      },
      "execution_count": 6,
      "outputs": [
        {
          "output_type": "stream",
          "name": "stdout",
          "text": [
            "Index(['product_id', 'category', 'animal', 'size', 'price', 'sales', 'rating',\n",
            "       'repeat_purchase'],\n",
            "      dtype='object')\n"
          ]
        }
      ]
    },
    {
      "cell_type": "code",
      "source": [
        "# Checking datatypes\n",
        "print(df.dtypes)"
      ],
      "metadata": {
        "colab": {
          "base_uri": "https://localhost:8080/"
        },
        "id": "N7pWmMxoPcop",
        "outputId": "44792190-0f02-462a-9cb7-ce667c29ea0d"
      },
      "execution_count": 7,
      "outputs": [
        {
          "output_type": "stream",
          "name": "stdout",
          "text": [
            "product_id           int64\n",
            "category            object\n",
            "animal              object\n",
            "size                object\n",
            "price               object\n",
            "sales              float64\n",
            "rating             float64\n",
            "repeat_purchase      int64\n",
            "dtype: object\n"
          ]
        }
      ]
    },
    {
      "cell_type": "code",
      "source": [
        "# Show top 5 of data\n",
        "print(df.head(5))"
      ],
      "metadata": {
        "colab": {
          "base_uri": "https://localhost:8080/"
        },
        "id": "IXdLlgbnQEtB",
        "outputId": "a39b37e4-0e7a-49a9-82bf-f074ddb0ea5b"
      },
      "execution_count": 8,
      "outputs": [
        {
          "output_type": "stream",
          "name": "stdout",
          "text": [
            "   product_id  category animal    size  price    sales  rating  \\\n",
            "0           1      Food   Bird   large   51.1  1860.62     7.0   \n",
            "1           2   Housing   Bird  MEDIUM  35.98   963.60     6.0   \n",
            "2           3      Food    Dog  medium  31.23   898.30     5.0   \n",
            "3           4  Medicine    Cat   small  24.95   982.15     6.0   \n",
            "4           5   Housing    Cat   Small  26.18   832.63     7.0   \n",
            "\n",
            "   repeat_purchase  \n",
            "0                1  \n",
            "1                0  \n",
            "2                1  \n",
            "3                1  \n",
            "4                1  \n"
          ]
        }
      ]
    },
    {
      "cell_type": "code",
      "source": [
        "# Checking missing value for each columns\n",
        "print(df.isna().sum())"
      ],
      "metadata": {
        "colab": {
          "base_uri": "https://localhost:8080/"
        },
        "id": "vuksUuwIXxAu",
        "outputId": "e8dbed93-34c0-4433-a565-3764d6ee1f17"
      },
      "execution_count": 9,
      "outputs": [
        {
          "output_type": "stream",
          "name": "stdout",
          "text": [
            "product_id           0\n",
            "category             0\n",
            "animal               0\n",
            "size                 0\n",
            "price                0\n",
            "sales                0\n",
            "rating             150\n",
            "repeat_purchase      0\n",
            "dtype: int64\n"
          ]
        }
      ]
    },
    {
      "cell_type": "code",
      "source": [
        "# Fill the missing value in column rating using 0\n",
        "df['rating'] = df['rating'].fillna(0)\n",
        "print(df.isna().sum())"
      ],
      "metadata": {
        "colab": {
          "base_uri": "https://localhost:8080/"
        },
        "id": "rDW31VqtRkuW",
        "outputId": "53a14b4c-8a0d-4769-e23e-f0aaed68948a"
      },
      "execution_count": 10,
      "outputs": [
        {
          "output_type": "stream",
          "name": "stdout",
          "text": [
            "product_id         0\n",
            "category           0\n",
            "animal             0\n",
            "size               0\n",
            "price              0\n",
            "sales              0\n",
            "rating             0\n",
            "repeat_purchase    0\n",
            "dtype: int64\n"
          ]
        }
      ]
    },
    {
      "cell_type": "code",
      "source": [
        "# Define a function to categorize sizes into 'Small', 'Medium', or 'Large', or 'Unknown' if not recognized.\n",
        "def categorize_size (size):\n",
        "  size = str(size).lower()\n",
        "  if 'small' in size:\n",
        "    return 'Small'\n",
        "  elif 'medium' in size:\n",
        "    return 'Medium'\n",
        "  elif 'large' in size:\n",
        "    return 'Large'\n",
        "  else:\n",
        "    return 'Unknown'\n",
        "\n",
        "# Apply the categorize_size function to the 'size' column of the DataFrame\n",
        "df['size'] = df['size'].apply(categorize_size)\n",
        "print(df['size'])"
      ],
      "metadata": {
        "colab": {
          "base_uri": "https://localhost:8080/"
        },
        "id": "XptiizPCSuyB",
        "outputId": "fe9571cd-5cda-4b57-c2a9-ac52547c4931"
      },
      "execution_count": 11,
      "outputs": [
        {
          "output_type": "stream",
          "name": "stdout",
          "text": [
            "0        Large\n",
            "1       Medium\n",
            "2       Medium\n",
            "3        Small\n",
            "4        Small\n",
            "         ...  \n",
            "1495    Medium\n",
            "1496     Small\n",
            "1497     Small\n",
            "1498     Small\n",
            "1499    Medium\n",
            "Name: size, Length: 1500, dtype: object\n"
          ]
        }
      ]
    },
    {
      "cell_type": "code",
      "source": [
        "# Checking undetected missing value in category column\n",
        "df_unknown_category = df['category'] == '-'\n",
        "count_unknown_category = df_unknown_category.sum()\n",
        "print(count_unknown_category)"
      ],
      "metadata": {
        "colab": {
          "base_uri": "https://localhost:8080/"
        },
        "id": "U-UBjki8SuwS",
        "outputId": "9bb9b7b5-b454-4345-e07d-f6771c7bce16"
      },
      "execution_count": 12,
      "outputs": [
        {
          "output_type": "stream",
          "name": "stdout",
          "text": [
            "25\n"
          ]
        }
      ]
    },
    {
      "cell_type": "code",
      "source": [
        "# Replace the hyphen to Unknown\n",
        "df['category'] = df['category'].replace('-','Unknown')\n",
        "print(df['category'].loc[20:25])"
      ],
      "metadata": {
        "colab": {
          "base_uri": "https://localhost:8080/"
        },
        "id": "ll6d1jQ5V7lu",
        "outputId": "a8782684-0a99-4a86-915f-5b529470dab0"
      },
      "execution_count": 13,
      "outputs": [
        {
          "output_type": "stream",
          "name": "stdout",
          "text": [
            "20         Food\n",
            "21         Food\n",
            "22      Unknown\n",
            "23    Equipment\n",
            "24         Toys\n",
            "25      Housing\n",
            "Name: category, dtype: object\n"
          ]
        }
      ]
    },
    {
      "cell_type": "code",
      "source": [
        "# Replace the unlisted price using median price\n",
        "df['price'] = df['price'].replace('unlisted', pd.NA)\n",
        "\n",
        "# Convert the 'price' column to numeric (float)\n",
        "df['price'] = pd.to_numeric(df['price'], errors='coerce')\n",
        "\n",
        "# Replace any NaN values in the 'price' column with the median price\n",
        "median_price = df['price'].median()\n",
        "df['price'].fillna(median_price, inplace=True)\n",
        "print(df['price'].loc[20:25])"
      ],
      "metadata": {
        "colab": {
          "base_uri": "https://localhost:8080/"
        },
        "id": "jSIcWuE-qER1",
        "outputId": "12136858-cc96-483f-f6e4-47360d54f2bf"
      },
      "execution_count": 19,
      "outputs": [
        {
          "output_type": "stream",
          "name": "stdout",
          "text": [
            "20    28.065\n",
            "21    41.000\n",
            "22    32.980\n",
            "23    22.990\n",
            "24    38.990\n",
            "25    45.830\n",
            "Name: price, dtype: float64\n"
          ]
        }
      ]
    },
    {
      "cell_type": "code",
      "source": [
        "print(df.tail(30))"
      ],
      "metadata": {
        "id": "k2BwrLmXXl1t",
        "colab": {
          "base_uri": "https://localhost:8080/"
        },
        "outputId": "945c6e7a-aefc-43cf-ebd4-df8dda606e47"
      },
      "execution_count": 20,
      "outputs": [
        {
          "output_type": "stream",
          "name": "stdout",
          "text": [
            "      product_id   category animal    size   price    sales  rating  \\\n",
            "1470        1471  Equipment   Fish   Small  23.050   706.21     5.0   \n",
            "1471        1472       Toys   Fish   Small  28.065   976.63     0.0   \n",
            "1472        1473  Equipment   Fish   Small  22.960   701.39     6.0   \n",
            "1473        1474   Medicine    Dog   Small  29.810  1079.33     5.0   \n",
            "1474        1475       Food   Bird  Medium  41.160  1213.07     3.0   \n",
            "1475        1476       Toys    Cat  Medium  29.050  1079.45     7.0   \n",
            "1476        1477    Housing   Bird   Large  28.065  1567.31     0.0   \n",
            "1477        1478    Housing    Cat   Small  25.780   819.79     5.0   \n",
            "1478        1479  Accessory   Bird   Large  42.990  1419.96     4.0   \n",
            "1479        1480    Housing   Fish   Large  26.010   780.17     3.0   \n",
            "1480        1481       Food   Bird  Medium  40.980  1212.22     4.0   \n",
            "1481        1482       Toys    Cat  Medium  29.000  1084.78     5.0   \n",
            "1482        1483       Toys    Cat   Small  34.040  1352.33     5.0   \n",
            "1483        1484  Equipment    Cat   Small  28.065  1037.81     0.0   \n",
            "1484        1485  Equipment    Cat   Small  28.030  1039.06     6.0   \n",
            "1485        1486    Housing    Cat  Medium  21.010   615.22     3.0   \n",
            "1486        1487       Toys   Fish   Small  29.100   981.97     4.0   \n",
            "1487        1488   Medicine   Fish   Small  19.940   663.56     7.0   \n",
            "1488        1489  Equipment   Fish   Small  23.250   713.67     3.0   \n",
            "1489        1490  Accessory   Bird   Large  43.050  1427.33     4.0   \n",
            "1490        1491   Medicine    Cat  Medium  20.140   746.16     7.0   \n",
            "1491        1492       Toys    Cat   Small  34.230  1365.70     5.0   \n",
            "1492        1493   Medicine    Cat   Small  24.950   993.08     7.0   \n",
            "1493        1494    Housing   Fish   Small  21.000   535.90     3.0   \n",
            "1494        1495   Medicine   Bird   Small  39.960  1478.99     3.0   \n",
            "1495        1496       Food   Bird  Medium  40.910  1203.36     5.0   \n",
            "1496        1497  Equipment    Dog   Small  32.890  1099.97     5.0   \n",
            "1497        1498       Food   Fish   Small  25.790   724.02     3.0   \n",
            "1498        1499   Medicine   Fish   Small  19.940   658.66     5.0   \n",
            "1499        1500       Food    Cat  Medium  25.950   826.08     4.0   \n",
            "\n",
            "      repeat_purchase  \n",
            "1470                1  \n",
            "1471                0  \n",
            "1472                1  \n",
            "1473                0  \n",
            "1474                0  \n",
            "1475                1  \n",
            "1476                1  \n",
            "1477                0  \n",
            "1478                0  \n",
            "1479                1  \n",
            "1480                0  \n",
            "1481                1  \n",
            "1482                1  \n",
            "1483                1  \n",
            "1484                1  \n",
            "1485                1  \n",
            "1486                1  \n",
            "1487                0  \n",
            "1488                1  \n",
            "1489                0  \n",
            "1490                1  \n",
            "1491                0  \n",
            "1492                1  \n",
            "1493                1  \n",
            "1494                0  \n",
            "1495                0  \n",
            "1496                0  \n",
            "1497                0  \n",
            "1498                1  \n",
            "1499                1  \n"
          ]
        }
      ]
    },
    {
      "cell_type": "code",
      "source": [
        "from google.colab import files\n",
        "df.to_csv('datacamp.csv')\n",
        "files.download('datacamp.csv')"
      ],
      "metadata": {
        "colab": {
          "base_uri": "https://localhost:8080/",
          "height": 17
        },
        "id": "tKXk7uBgoaqS",
        "outputId": "e36f72d2-0306-4ec1-9a37-7d380002826f"
      },
      "execution_count": 15,
      "outputs": [
        {
          "output_type": "display_data",
          "data": {
            "text/plain": [
              "<IPython.core.display.Javascript object>"
            ],
            "application/javascript": [
              "\n",
              "    async function download(id, filename, size) {\n",
              "      if (!google.colab.kernel.accessAllowed) {\n",
              "        return;\n",
              "      }\n",
              "      const div = document.createElement('div');\n",
              "      const label = document.createElement('label');\n",
              "      label.textContent = `Downloading \"${filename}\": `;\n",
              "      div.appendChild(label);\n",
              "      const progress = document.createElement('progress');\n",
              "      progress.max = size;\n",
              "      div.appendChild(progress);\n",
              "      document.body.appendChild(div);\n",
              "\n",
              "      const buffers = [];\n",
              "      let downloaded = 0;\n",
              "\n",
              "      const channel = await google.colab.kernel.comms.open(id);\n",
              "      // Send a message to notify the kernel that we're ready.\n",
              "      channel.send({})\n",
              "\n",
              "      for await (const message of channel.messages) {\n",
              "        // Send a message to notify the kernel that we're ready.\n",
              "        channel.send({})\n",
              "        if (message.buffers) {\n",
              "          for (const buffer of message.buffers) {\n",
              "            buffers.push(buffer);\n",
              "            downloaded += buffer.byteLength;\n",
              "            progress.value = downloaded;\n",
              "          }\n",
              "        }\n",
              "      }\n",
              "      const blob = new Blob(buffers, {type: 'application/binary'});\n",
              "      const a = document.createElement('a');\n",
              "      a.href = window.URL.createObjectURL(blob);\n",
              "      a.download = filename;\n",
              "      div.appendChild(a);\n",
              "      a.click();\n",
              "      div.remove();\n",
              "    }\n",
              "  "
            ]
          },
          "metadata": {}
        },
        {
          "output_type": "display_data",
          "data": {
            "text/plain": [
              "<IPython.core.display.Javascript object>"
            ],
            "application/javascript": [
              "download(\"download_df1a0dfd-1836-4213-ae10-bf6940ace042\", \"datacamp.csv\", 69915)"
            ]
          },
          "metadata": {}
        }
      ]
    }
  ]
}