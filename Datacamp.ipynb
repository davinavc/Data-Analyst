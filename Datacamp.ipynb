{
  "nbformat": 4,
  "nbformat_minor": 0,
  "metadata": {
    "colab": {
      "provenance": [],
      "toc_visible": true,
      "authorship_tag": "ABX9TyPZp1AsxVAGDkIxj68rhZGk",
      "include_colab_link": true
    },
    "kernelspec": {
      "name": "python3",
      "display_name": "Python 3"
    },
    "language_info": {
      "name": "python"
    }
  },
  "cells": [
    {
      "cell_type": "markdown",
      "metadata": {
        "id": "view-in-github",
        "colab_type": "text"
      },
      "source": [
        "<a href=\"https://colab.research.google.com/github/davinavc/Data-Analyst/blob/main/Datacamp.ipynb\" target=\"_parent\"><img src=\"https://colab.research.google.com/assets/colab-badge.svg\" alt=\"Open In Colab\"/></a>"
      ]
    },
    {
      "cell_type": "code",
      "execution_count": 1,
      "metadata": {
        "id": "IVGiV0vYPE3d"
      },
      "outputs": [],
      "source": [
        "# Import library\n",
        "import pandas as pd"
      ]
    },
    {
      "cell_type": "code",
      "source": [
        "# Load the dataset\n",
        "df = pd.read_csv('/content/pet_supplies_2212.csv')"
      ],
      "metadata": {
        "id": "A0id9XyuPPX4"
      },
      "execution_count": 2,
      "outputs": []
    },
    {
      "cell_type": "code",
      "source": [
        "# Dataset Size\n",
        "print(df.shape)"
      ],
      "metadata": {
        "id": "HnFEWn0HY_Ja"
      },
      "execution_count": null,
      "outputs": []
    },
    {
      "cell_type": "code",
      "source": [
        "# Columns names in dataset\n",
        "print(df.columns)"
      ],
      "metadata": {
        "colab": {
          "base_uri": "https://localhost:8080/"
        },
        "id": "yGfy78S4PWKf",
        "outputId": "08fb0590-5b3b-4894-c3a8-9a2b2dd1d491"
      },
      "execution_count": 3,
      "outputs": [
        {
          "output_type": "stream",
          "name": "stdout",
          "text": [
            "Index(['product_id', 'category', 'animal', 'size', 'price', 'sales', 'rating',\n",
            "       'repeat_purchase'],\n",
            "      dtype='object')\n"
          ]
        }
      ]
    },
    {
      "cell_type": "code",
      "source": [
        "# Checking datatypes\n",
        "print(df.dtypes)"
      ],
      "metadata": {
        "colab": {
          "base_uri": "https://localhost:8080/"
        },
        "id": "N7pWmMxoPcop",
        "outputId": "ad513f0d-b295-41ee-ac8e-4de55db0b9e2"
      },
      "execution_count": 13,
      "outputs": [
        {
          "output_type": "stream",
          "name": "stdout",
          "text": [
            "product_id           int64\n",
            "category            object\n",
            "animal              object\n",
            "size                object\n",
            "price               object\n",
            "sales              float64\n",
            "rating             float64\n",
            "repeat_purchase      int64\n",
            "dtype: object\n"
          ]
        }
      ]
    },
    {
      "cell_type": "code",
      "source": [
        "# Show top 5 of data\n",
        "print(df.head(5))"
      ],
      "metadata": {
        "colab": {
          "base_uri": "https://localhost:8080/"
        },
        "id": "IXdLlgbnQEtB",
        "outputId": "156e1536-8559-4631-dc76-85d46a8e9e0a"
      },
      "execution_count": 5,
      "outputs": [
        {
          "output_type": "stream",
          "name": "stdout",
          "text": [
            "   product_id  category animal    size  price    sales  rating  \\\n",
            "0           1      Food   Bird   large   51.1  1860.62     7.0   \n",
            "1           2   Housing   Bird  MEDIUM  35.98   963.60     6.0   \n",
            "2           3      Food    Dog  medium  31.23   898.30     5.0   \n",
            "3           4  Medicine    Cat   small  24.95   982.15     6.0   \n",
            "4           5   Housing    Cat   Small  26.18   832.63     7.0   \n",
            "\n",
            "   repeat_purchase  \n",
            "0                1  \n",
            "1                0  \n",
            "2                1  \n",
            "3                1  \n",
            "4                1  \n"
          ]
        }
      ]
    },
    {
      "cell_type": "code",
      "source": [
        "# Checking missing value for each columns\n",
        "print(df.isna().sum())"
      ],
      "metadata": {
        "colab": {
          "base_uri": "https://localhost:8080/"
        },
        "id": "vuksUuwIXxAu",
        "outputId": "eccadcfa-5f83-4687-81c5-5c11de413252"
      },
      "execution_count": 7,
      "outputs": [
        {
          "output_type": "stream",
          "name": "stdout",
          "text": [
            "product_id           0\n",
            "category             0\n",
            "animal               0\n",
            "size                 0\n",
            "price                0\n",
            "sales                0\n",
            "rating             150\n",
            "repeat_purchase      0\n",
            "dtype: int64\n"
          ]
        }
      ]
    },
    {
      "cell_type": "code",
      "source": [
        "# Fill the missing value in column rating using 0\n",
        "df['rating'] = df['rating'].fillna(0)\n",
        "print(df.isna().sum())"
      ],
      "metadata": {
        "colab": {
          "base_uri": "https://localhost:8080/"
        },
        "id": "rDW31VqtRkuW",
        "outputId": "3c7da984-1100-4cdb-9219-a9f54b4d71ea"
      },
      "execution_count": 12,
      "outputs": [
        {
          "output_type": "stream",
          "name": "stdout",
          "text": [
            "product_id         0\n",
            "category           0\n",
            "animal             0\n",
            "size               0\n",
            "price              0\n",
            "sales              0\n",
            "rating             0\n",
            "repeat_purchase    0\n",
            "dtype: int64\n"
          ]
        }
      ]
    },
    {
      "cell_type": "code",
      "source": [
        "# Define a function to categorize sizes into 'Small', 'Medium', or 'Large', or 'Unknown' if not recognized.\n",
        "def categorize_size (size):\n",
        "  size = str(size).lower()\n",
        "  if 'small' in size:\n",
        "    return 'Small'\n",
        "  elif 'medium' in size:\n",
        "    return 'Medium'\n",
        "  elif 'large' in size:\n",
        "    return 'Large'\n",
        "  else:\n",
        "    return 'Unknown'\n",
        "\n",
        "# Apply the categorize_size function to the 'size' column of the DataFrame\n",
        "df['size'] = df['size'].apply(categorize_size)\n",
        "print(df['size'])"
      ],
      "metadata": {
        "colab": {
          "base_uri": "https://localhost:8080/"
        },
        "id": "XptiizPCSuyB",
        "outputId": "739193cd-31d0-412a-92b9-a2794af67fcf"
      },
      "execution_count": 9,
      "outputs": [
        {
          "output_type": "stream",
          "name": "stdout",
          "text": [
            "0        Large\n",
            "1       Medium\n",
            "2       Medium\n",
            "3        Small\n",
            "4        Small\n",
            "         ...  \n",
            "1495    Medium\n",
            "1496     Small\n",
            "1497     Small\n",
            "1498     Small\n",
            "1499    Medium\n",
            "Name: size, Length: 1500, dtype: object\n"
          ]
        }
      ]
    },
    {
      "cell_type": "code",
      "source": [
        "# Checking undetected missing value in category column\n",
        "df_unknown_category = df['category'] == '-'\n",
        "count_unknown_category = df_unknown_category.sum()\n",
        "print(count_unknown_category)"
      ],
      "metadata": {
        "colab": {
          "base_uri": "https://localhost:8080/"
        },
        "id": "U-UBjki8SuwS",
        "outputId": "a10d15d4-494f-4c35-95bc-1c562f5df094"
      },
      "execution_count": 10,
      "outputs": [
        {
          "output_type": "stream",
          "name": "stdout",
          "text": [
            "25\n"
          ]
        }
      ]
    },
    {
      "cell_type": "code",
      "source": [
        "# Replace the hyphen to Unknown\n",
        "df['category'] = df['category'].replace('-','Unknown')\n",
        "print(df['category'].loc[20:25])"
      ],
      "metadata": {
        "colab": {
          "base_uri": "https://localhost:8080/"
        },
        "id": "ll6d1jQ5V7lu",
        "outputId": "52641537-438e-4174-9cca-d35934f07641"
      },
      "execution_count": 11,
      "outputs": [
        {
          "output_type": "stream",
          "name": "stdout",
          "text": [
            "20         Food\n",
            "21         Food\n",
            "22      Unknown\n",
            "23    Equipment\n",
            "24         Toys\n",
            "25      Housing\n",
            "Name: category, dtype: object\n"
          ]
        }
      ]
    },
    {
      "cell_type": "code",
      "source": [
        "print(df.tail(30))"
      ],
      "metadata": {
        "id": "k2BwrLmXXl1t",
        "colab": {
          "base_uri": "https://localhost:8080/"
        },
        "outputId": "e6c0ea99-72ac-49e9-cad6-f7ee9bddf37d"
      },
      "execution_count": 17,
      "outputs": [
        {
          "output_type": "stream",
          "name": "stdout",
          "text": [
            "      product_id   category animal    size     price    sales  rating  \\\n",
            "1470        1471  Equipment   Fish   Small     23.05   706.21     5.0   \n",
            "1471        1472       Toys   Fish   Small  unlisted   976.63     0.0   \n",
            "1472        1473  Equipment   Fish   Small     22.96   701.39     6.0   \n",
            "1473        1474   Medicine    Dog   Small     29.81  1079.33     5.0   \n",
            "1474        1475       Food   Bird  Medium     41.16  1213.07     3.0   \n",
            "1475        1476       Toys    Cat  Medium     29.05  1079.45     7.0   \n",
            "1476        1477    Housing   Bird   Large  unlisted  1567.31     0.0   \n",
            "1477        1478    Housing    Cat   Small     25.78   819.79     5.0   \n",
            "1478        1479  Accessory   Bird   Large     42.99  1419.96     4.0   \n",
            "1479        1480    Housing   Fish   Large     26.01   780.17     3.0   \n",
            "1480        1481       Food   Bird  Medium     40.98  1212.22     4.0   \n",
            "1481        1482       Toys    Cat  Medium        29  1084.78     5.0   \n",
            "1482        1483       Toys    Cat   Small     34.04  1352.33     5.0   \n",
            "1483        1484  Equipment    Cat   Small  unlisted  1037.81     0.0   \n",
            "1484        1485  Equipment    Cat   Small     28.03  1039.06     6.0   \n",
            "1485        1486    Housing    Cat  Medium     21.01   615.22     3.0   \n",
            "1486        1487       Toys   Fish   Small      29.1   981.97     4.0   \n",
            "1487        1488   Medicine   Fish   Small     19.94   663.56     7.0   \n",
            "1488        1489  Equipment   Fish   Small     23.25   713.67     3.0   \n",
            "1489        1490  Accessory   Bird   Large     43.05  1427.33     4.0   \n",
            "1490        1491   Medicine    Cat  Medium     20.14   746.16     7.0   \n",
            "1491        1492       Toys    Cat   Small     34.23  1365.70     5.0   \n",
            "1492        1493   Medicine    Cat   Small     24.95   993.08     7.0   \n",
            "1493        1494    Housing   Fish   Small        21   535.90     3.0   \n",
            "1494        1495   Medicine   Bird   Small     39.96  1478.99     3.0   \n",
            "1495        1496       Food   Bird  Medium     40.91  1203.36     5.0   \n",
            "1496        1497  Equipment    Dog   Small     32.89  1099.97     5.0   \n",
            "1497        1498       Food   Fish   Small     25.79   724.02     3.0   \n",
            "1498        1499   Medicine   Fish   Small     19.94   658.66     5.0   \n",
            "1499        1500       Food    Cat  Medium     25.95   826.08     4.0   \n",
            "\n",
            "      repeat_purchase  \n",
            "1470                1  \n",
            "1471                0  \n",
            "1472                1  \n",
            "1473                0  \n",
            "1474                0  \n",
            "1475                1  \n",
            "1476                1  \n",
            "1477                0  \n",
            "1478                0  \n",
            "1479                1  \n",
            "1480                0  \n",
            "1481                1  \n",
            "1482                1  \n",
            "1483                1  \n",
            "1484                1  \n",
            "1485                1  \n",
            "1486                1  \n",
            "1487                0  \n",
            "1488                1  \n",
            "1489                0  \n",
            "1490                1  \n",
            "1491                0  \n",
            "1492                1  \n",
            "1493                1  \n",
            "1494                0  \n",
            "1495                0  \n",
            "1496                0  \n",
            "1497                0  \n",
            "1498                1  \n",
            "1499                1  \n"
          ]
        }
      ]
    }
  ]
}