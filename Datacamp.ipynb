{
  "nbformat": 4,
  "nbformat_minor": 0,
  "metadata": {
    "colab": {
      "provenance": [],
      "toc_visible": true,
      "authorship_tag": "ABX9TyPDHfbXVzzWrsjbTn9qluNG",
      "include_colab_link": true
    },
    "kernelspec": {
      "name": "python3",
      "display_name": "Python 3"
    },
    "language_info": {
      "name": "python"
    }
  },
  "cells": [
    {
      "cell_type": "markdown",
      "metadata": {
        "id": "view-in-github",
        "colab_type": "text"
      },
      "source": [
        "<a href=\"https://colab.research.google.com/github/davinavc/Data-Analyst/blob/main/Datacamp.ipynb\" target=\"_parent\"><img src=\"https://colab.research.google.com/assets/colab-badge.svg\" alt=\"Open In Colab\"/></a>"
      ]
    },
    {
      "cell_type": "code",
      "execution_count": 1,
      "metadata": {
        "id": "IVGiV0vYPE3d"
      },
      "outputs": [],
      "source": [
        "import pandas as pd"
      ]
    },
    {
      "cell_type": "code",
      "source": [
        "df = pd.read_csv('/content/pet_supplies_2212.csv')"
      ],
      "metadata": {
        "id": "A0id9XyuPPX4"
      },
      "execution_count": 2,
      "outputs": []
    },
    {
      "cell_type": "code",
      "source": [
        "print(df.columns)"
      ],
      "metadata": {
        "colab": {
          "base_uri": "https://localhost:8080/"
        },
        "id": "yGfy78S4PWKf",
        "outputId": "08fb0590-5b3b-4894-c3a8-9a2b2dd1d491"
      },
      "execution_count": 3,
      "outputs": [
        {
          "output_type": "stream",
          "name": "stdout",
          "text": [
            "Index(['product_id', 'category', 'animal', 'size', 'price', 'sales', 'rating',\n",
            "       'repeat_purchase'],\n",
            "      dtype='object')\n"
          ]
        }
      ]
    },
    {
      "cell_type": "code",
      "source": [
        "print(df.dtypes)"
      ],
      "metadata": {
        "colab": {
          "base_uri": "https://localhost:8080/"
        },
        "id": "N7pWmMxoPcop",
        "outputId": "719bfc17-ee74-4946-ae26-25c5baf2e416"
      },
      "execution_count": 4,
      "outputs": [
        {
          "output_type": "stream",
          "name": "stdout",
          "text": [
            "product_id           int64\n",
            "category            object\n",
            "animal              object\n",
            "size                object\n",
            "price               object\n",
            "sales              float64\n",
            "rating             float64\n",
            "repeat_purchase      int64\n",
            "dtype: object\n"
          ]
        }
      ]
    },
    {
      "cell_type": "code",
      "source": [
        "print(df.head(5))"
      ],
      "metadata": {
        "colab": {
          "base_uri": "https://localhost:8080/"
        },
        "id": "IXdLlgbnQEtB",
        "outputId": "156e1536-8559-4631-dc76-85d46a8e9e0a"
      },
      "execution_count": 5,
      "outputs": [
        {
          "output_type": "stream",
          "name": "stdout",
          "text": [
            "   product_id  category animal    size  price    sales  rating  \\\n",
            "0           1      Food   Bird   large   51.1  1860.62     7.0   \n",
            "1           2   Housing   Bird  MEDIUM  35.98   963.60     6.0   \n",
            "2           3      Food    Dog  medium  31.23   898.30     5.0   \n",
            "3           4  Medicine    Cat   small  24.95   982.15     6.0   \n",
            "4           5   Housing    Cat   Small  26.18   832.63     7.0   \n",
            "\n",
            "   repeat_purchase  \n",
            "0                1  \n",
            "1                0  \n",
            "2                1  \n",
            "3                1  \n",
            "4                1  \n"
          ]
        }
      ]
    },
    {
      "cell_type": "code",
      "source": [
        "print(df.shape)"
      ],
      "metadata": {
        "colab": {
          "base_uri": "https://localhost:8080/"
        },
        "id": "xauje5xcUiY6",
        "outputId": "3527d601-c9e4-4cba-b8c6-50b070847c1b"
      },
      "execution_count": 6,
      "outputs": [
        {
          "output_type": "stream",
          "name": "stdout",
          "text": [
            "(1500, 8)\n"
          ]
        }
      ]
    },
    {
      "cell_type": "code",
      "source": [
        "print(df.isna().sum())"
      ],
      "metadata": {
        "colab": {
          "base_uri": "https://localhost:8080/"
        },
        "id": "vuksUuwIXxAu",
        "outputId": "eccadcfa-5f83-4687-81c5-5c11de413252"
      },
      "execution_count": 7,
      "outputs": [
        {
          "output_type": "stream",
          "name": "stdout",
          "text": [
            "product_id           0\n",
            "category             0\n",
            "animal               0\n",
            "size                 0\n",
            "price                0\n",
            "sales                0\n",
            "rating             150\n",
            "repeat_purchase      0\n",
            "dtype: int64\n"
          ]
        }
      ]
    },
    {
      "cell_type": "code",
      "source": [
        "df['rating'] = df['rating'].fillna(0)\n",
        "print(df.isna().sum())"
      ],
      "metadata": {
        "colab": {
          "base_uri": "https://localhost:8080/"
        },
        "id": "rDW31VqtRkuW",
        "outputId": "3c7da984-1100-4cdb-9219-a9f54b4d71ea"
      },
      "execution_count": 12,
      "outputs": [
        {
          "output_type": "stream",
          "name": "stdout",
          "text": [
            "product_id         0\n",
            "category           0\n",
            "animal             0\n",
            "size               0\n",
            "price              0\n",
            "sales              0\n",
            "rating             0\n",
            "repeat_purchase    0\n",
            "dtype: int64\n"
          ]
        }
      ]
    },
    {
      "cell_type": "code",
      "source": [
        "def categorize_size (size):\n",
        "  size = str(size).lower()\n",
        "  if 'small' in size:\n",
        "    return 'Small'\n",
        "  elif 'medium' in size:\n",
        "    return 'Medium'\n",
        "  elif 'large' in size:\n",
        "    return 'Large'\n",
        "  else:\n",
        "    return 'Unknown'\n",
        "\n",
        "df['size'] = df['size'].apply(categorize_size)\n",
        "print(df['size'])\n"
      ],
      "metadata": {
        "colab": {
          "base_uri": "https://localhost:8080/"
        },
        "id": "XptiizPCSuyB",
        "outputId": "739193cd-31d0-412a-92b9-a2794af67fcf"
      },
      "execution_count": 9,
      "outputs": [
        {
          "output_type": "stream",
          "name": "stdout",
          "text": [
            "0        Large\n",
            "1       Medium\n",
            "2       Medium\n",
            "3        Small\n",
            "4        Small\n",
            "         ...  \n",
            "1495    Medium\n",
            "1496     Small\n",
            "1497     Small\n",
            "1498     Small\n",
            "1499    Medium\n",
            "Name: size, Length: 1500, dtype: object\n"
          ]
        }
      ]
    },
    {
      "cell_type": "code",
      "source": [
        "df_unknown_category = df['category'] == '-'\n",
        "count_unknown_category = df_unknown_category.sum()\n",
        "print(count_unknown_category)"
      ],
      "metadata": {
        "colab": {
          "base_uri": "https://localhost:8080/"
        },
        "id": "U-UBjki8SuwS",
        "outputId": "a10d15d4-494f-4c35-95bc-1c562f5df094"
      },
      "execution_count": 10,
      "outputs": [
        {
          "output_type": "stream",
          "name": "stdout",
          "text": [
            "25\n"
          ]
        }
      ]
    },
    {
      "cell_type": "code",
      "source": [
        "df['category'] = df['category'].replace('-','Unknown')\n",
        "print(df['category'].loc[20:25])"
      ],
      "metadata": {
        "colab": {
          "base_uri": "https://localhost:8080/"
        },
        "id": "ll6d1jQ5V7lu",
        "outputId": "52641537-438e-4174-9cca-d35934f07641"
      },
      "execution_count": 11,
      "outputs": [
        {
          "output_type": "stream",
          "name": "stdout",
          "text": [
            "20         Food\n",
            "21         Food\n",
            "22      Unknown\n",
            "23    Equipment\n",
            "24         Toys\n",
            "25      Housing\n",
            "Name: category, dtype: object\n"
          ]
        }
      ]
    },
    {
      "cell_type": "code",
      "source": [],
      "metadata": {
        "id": "k2BwrLmXXl1t"
      },
      "execution_count": 11,
      "outputs": []
    }
  ]
}